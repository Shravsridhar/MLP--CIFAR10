{
  "nbformat": 4,
  "nbformat_minor": 0,
  "metadata": {
    "colab": {
      "name": "mlp_cifar10.ipynb",
      "version": "0.3.2",
      "provenance": [],
      "collapsed_sections": []
    },
    "kernelspec": {
      "name": "python3",
      "display_name": "Python 3"
    },
    "accelerator": "GPU"
  },
  "cells": [
    {
      "metadata": {
        "id": "tQ0LnzzZAPhx",
        "colab_type": "text"
      },
      "cell_type": "markdown",
      "source": [
        "**BUILDING AN MLP FOR IMAGE CLASSIFICATION USING CIFAR10 DATASET**"
      ]
    },
    {
      "metadata": {
        "id": "Rf5kI5DcAYQf",
        "colab_type": "text"
      },
      "cell_type": "markdown",
      "source": [
        "**LOADING REQUIRED LIBRARIES**"
      ]
    },
    {
      "metadata": {
        "id": "zi05Za6cINKm",
        "colab_type": "code",
        "colab": {}
      },
      "cell_type": "code",
      "source": [
        "import keras as k \n",
        "from keras.datasets import cifar10\n",
        "from matplotlib import pyplot as p\n",
        "from keras.preprocessing.image import ImageDataGenerator\n",
        "from keras.models import Sequential\n",
        "from keras import optimizers\n",
        "from keras.layers import Dense, Dropout, Activation,Flatten,BatchNormalization\n",
        "from keras_sequential_ascii import sequential_model_to_ascii_printout\n",
        "from sklearn.metrics import classification_report, confusion_matrix\n",
        "import datetime"
      ],
      "execution_count": 0,
      "outputs": []
    },
    {
      "metadata": {
        "id": "Q5MqEpLVR0IJ",
        "colab_type": "code",
        "outputId": "eddfc15d-dacd-48af-c029-76cd3e855ccf",
        "colab": {
          "base_uri": "https://localhost:8080/",
          "height": 170
        }
      },
      "cell_type": "code",
      "source": [
        "!pip install keras_sequential_ascii"
      ],
      "execution_count": 0,
      "outputs": [
        {
          "output_type": "stream",
          "text": [
            "Requirement already satisfied: keras_sequential_ascii in /usr/local/lib/python3.6/dist-packages (0.1.1)\n",
            "Requirement already satisfied: keras in /usr/local/lib/python3.6/dist-packages (from keras_sequential_ascii) (2.2.4)\n",
            "Requirement already satisfied: keras-applications>=1.0.6 in /usr/local/lib/python3.6/dist-packages (from keras->keras_sequential_ascii) (1.0.6)\n",
            "Requirement already satisfied: keras-preprocessing>=1.0.5 in /usr/local/lib/python3.6/dist-packages (from keras->keras_sequential_ascii) (1.0.5)\n",
            "Requirement already satisfied: pyyaml in /usr/local/lib/python3.6/dist-packages (from keras->keras_sequential_ascii) (3.13)\n",
            "Requirement already satisfied: six>=1.9.0 in /usr/local/lib/python3.6/dist-packages (from keras->keras_sequential_ascii) (1.11.0)\n",
            "Requirement already satisfied: numpy>=1.9.1 in /usr/local/lib/python3.6/dist-packages (from keras->keras_sequential_ascii) (1.14.6)\n",
            "Requirement already satisfied: h5py in /usr/local/lib/python3.6/dist-packages (from keras->keras_sequential_ascii) (2.8.0)\n",
            "Requirement already satisfied: scipy>=0.14 in /usr/local/lib/python3.6/dist-packages (from keras->keras_sequential_ascii) (1.1.0)\n"
          ],
          "name": "stdout"
        }
      ]
    },
    {
      "metadata": {
        "id": "OkiuipuVAfdq",
        "colab_type": "text"
      },
      "cell_type": "markdown",
      "source": [
        "**LOAD DATA**"
      ]
    },
    {
      "metadata": {
        "id": "N0BM1-BFIWN4",
        "colab_type": "code",
        "colab": {}
      },
      "cell_type": "code",
      "source": [
        "(x_train, y_train), (x_test, y_test) = cifar10.load_data()"
      ],
      "execution_count": 0,
      "outputs": []
    },
    {
      "metadata": {
        "id": "8vJr2vW4AhHn",
        "colab_type": "text"
      },
      "cell_type": "markdown",
      "source": [
        "**HYPERPARAMETERS SETTINGS**"
      ]
    },
    {
      "metadata": {
        "id": "0i1YhXIwIaCN",
        "colab_type": "code",
        "colab": {}
      },
      "cell_type": "code",
      "source": [
        "no_class = 10 \n",
        "batch_size = 64\n",
        "epoch = 20\n",
        "learning_rate = 0.0001\n"
      ],
      "execution_count": 0,
      "outputs": []
    },
    {
      "metadata": {
        "id": "KjeAV13kAoHD",
        "colab_type": "text"
      },
      "cell_type": "markdown",
      "source": [
        "**DATA PREPROCESSING**"
      ]
    },
    {
      "metadata": {
        "id": "EAqooQSPIf96",
        "colab_type": "code",
        "colab": {}
      },
      "cell_type": "code",
      "source": [
        "\n",
        "y_train = k.utils.to_categorical(y_train, no_class)\n",
        "y_test = k.utils.to_categorical(y_test, no_class)\n",
        "\n",
        "# pixel values range from 0 to 255 - normalize \n",
        "x_train = x_train.astype('float32')\n",
        "x_test = x_test.astype('float32')\n",
        "x_train  /= 255\n",
        "x_test /= 255\n"
      ],
      "execution_count": 0,
      "outputs": []
    },
    {
      "metadata": {
        "id": "FPyzSR7IAsIQ",
        "colab_type": "text"
      },
      "cell_type": "markdown",
      "source": [
        "**MODEL CREATION**"
      ]
    },
    {
      "metadata": {
        "id": "X44RRLH2Jtyz",
        "colab_type": "code",
        "colab": {}
      },
      "cell_type": "code",
      "source": [
        "def model_creation():\n",
        "  model = Sequential()\n",
        "  model.add(Flatten(input_shape=x_train.shape[1:]))\n",
        "  model.add(Dense(2048,activation= 'relu'))\n",
        "  model.add(Dropout(.2))\n",
        "  model.add(Dense(1024, activation='relu'))\n",
        "  model.add(Dense(512,activation='relu'))\n",
        "  model.add(Dense(no_class))\n",
        "  model.add(Activation('softmax'))\n",
        "  opt = optimizers.Adam(beta_1=.9,beta_2=.999,lr = learning_rate)\n",
        "  model.compile(loss='categorical_crossentropy', optimizer=opt,metrics=['accuracy'])\n",
        "  return model"
      ],
      "execution_count": 0,
      "outputs": []
    },
    {
      "metadata": {
        "id": "gnmDaUBoKoh8",
        "colab_type": "code",
        "colab": {}
      },
      "cell_type": "code",
      "source": [
        "\n",
        "cnn_basemodel = model_creation() \n",
        "  "
      ],
      "execution_count": 0,
      "outputs": []
    },
    {
      "metadata": {
        "id": "2ePICfIXAvCL",
        "colab_type": "text"
      },
      "cell_type": "markdown",
      "source": [
        "**MODEL FIT AND EVALUATION**"
      ]
    },
    {
      "metadata": {
        "id": "wg3uo4yKKwmZ",
        "colab_type": "code",
        "outputId": "c5d9a630-1c87-4ce1-e224-15ac8e7aaf88",
        "colab": {
          "base_uri": "https://localhost:8080/",
          "height": 731
        }
      },
      "cell_type": "code",
      "source": [
        "start_time = datetime.datetime.now()\n",
        "cnn_1 = cnn_basemodel.fit(x_train, y_train, batch_size=batch_size, epochs=epoch,validation_data=(x_test,y_test),shuffle=True)\n",
        "acc = cnn_basemodel.evaluate(x_test, y_test, verbose=1)\n",
        "end_time = datetime.datetime.now()"
      ],
      "execution_count": 0,
      "outputs": [
        {
          "output_type": "stream",
          "text": [
            "Train on 50000 samples, validate on 10000 samples\n",
            "Epoch 1/20\n",
            "50000/50000 [==============================] - 18s 351us/step - loss: 1.8348 - acc: 0.3359 - val_loss: 1.6863 - val_acc: 0.3950\n",
            "Epoch 2/20\n",
            "50000/50000 [==============================] - 14s 284us/step - loss: 1.6532 - acc: 0.4105 - val_loss: 1.5955 - val_acc: 0.4282\n",
            "Epoch 3/20\n",
            "50000/50000 [==============================] - 14s 289us/step - loss: 1.5705 - acc: 0.4398 - val_loss: 1.5257 - val_acc: 0.4566\n",
            "Epoch 4/20\n",
            "50000/50000 [==============================] - 15s 308us/step - loss: 1.5159 - acc: 0.4590 - val_loss: 1.4934 - val_acc: 0.4642\n",
            "Epoch 5/20\n",
            "50000/50000 [==============================] - 15s 308us/step - loss: 1.4708 - acc: 0.4762 - val_loss: 1.4312 - val_acc: 0.4904\n",
            "Epoch 6/20\n",
            "50000/50000 [==============================] - 15s 308us/step - loss: 1.4275 - acc: 0.4916 - val_loss: 1.4178 - val_acc: 0.4915\n",
            "Epoch 7/20\n",
            "50000/50000 [==============================] - 15s 308us/step - loss: 1.3933 - acc: 0.5012 - val_loss: 1.4493 - val_acc: 0.4850\n",
            "Epoch 8/20\n",
            "50000/50000 [==============================] - 15s 309us/step - loss: 1.3617 - acc: 0.5145 - val_loss: 1.4108 - val_acc: 0.4954\n",
            "Epoch 9/20\n",
            "50000/50000 [==============================] - 15s 308us/step - loss: 1.3241 - acc: 0.5291 - val_loss: 1.3708 - val_acc: 0.5128\n",
            "Epoch 10/20\n",
            "50000/50000 [==============================] - 16s 311us/step - loss: 1.2996 - acc: 0.5352 - val_loss: 1.3450 - val_acc: 0.5257\n",
            "Epoch 11/20\n",
            "50000/50000 [==============================] - 16s 310us/step - loss: 1.2672 - acc: 0.5494 - val_loss: 1.3350 - val_acc: 0.5243\n",
            "Epoch 12/20\n",
            "50000/50000 [==============================] - 16s 310us/step - loss: 1.2382 - acc: 0.5607 - val_loss: 1.3398 - val_acc: 0.5294\n",
            "Epoch 13/20\n",
            "50000/50000 [==============================] - 15s 310us/step - loss: 1.2060 - acc: 0.5717 - val_loss: 1.3579 - val_acc: 0.5174\n",
            "Epoch 14/20\n",
            "50000/50000 [==============================] - 16s 313us/step - loss: 1.1815 - acc: 0.5783 - val_loss: 1.3334 - val_acc: 0.5288\n",
            "Epoch 15/20\n",
            "50000/50000 [==============================] - 15s 309us/step - loss: 1.1545 - acc: 0.5910 - val_loss: 1.3012 - val_acc: 0.5477\n",
            "Epoch 16/20\n",
            "50000/50000 [==============================] - 15s 309us/step - loss: 1.1249 - acc: 0.6001 - val_loss: 1.2928 - val_acc: 0.5461\n",
            "Epoch 17/20\n",
            "50000/50000 [==============================] - 16s 311us/step - loss: 1.0975 - acc: 0.6111 - val_loss: 1.2926 - val_acc: 0.5457\n",
            "Epoch 18/20\n",
            "50000/50000 [==============================] - 15s 306us/step - loss: 1.0733 - acc: 0.6169 - val_loss: 1.2855 - val_acc: 0.5510\n",
            "Epoch 19/20\n",
            "50000/50000 [==============================] - 15s 308us/step - loss: 1.0455 - acc: 0.6295 - val_loss: 1.2735 - val_acc: 0.5540\n",
            "Epoch 20/20\n",
            "50000/50000 [==============================] - 14s 289us/step - loss: 1.0161 - acc: 0.6411 - val_loss: 1.2891 - val_acc: 0.5498\n",
            "10000/10000 [==============================] - 1s 114us/step\n"
          ],
          "name": "stdout"
        }
      ]
    },
    {
      "metadata": {
        "id": "Y4LYIjYmbBOW",
        "colab_type": "text"
      },
      "cell_type": "markdown",
      "source": [
        "**CALCULATING MODEL TRAINING AND VALIDATION TIME**"
      ]
    },
    {
      "metadata": {
        "id": "oiOuPVgVNHSe",
        "colab_type": "code",
        "outputId": "916bcf24-86b3-4bdc-cd28-c151f24ed544",
        "colab": {
          "base_uri": "https://localhost:8080/",
          "height": 34
        }
      },
      "cell_type": "code",
      "source": [
        "start_time = start_time.minute\n",
        "end_time = end_time.minute\n",
        "train_v_time = end_time - start_time\n",
        "print(train_v_time)"
      ],
      "execution_count": 0,
      "outputs": [
        {
          "output_type": "stream",
          "text": [
            "5\n"
          ],
          "name": "stdout"
        }
      ]
    },
    {
      "metadata": {
        "id": "Qp1tQacHAzIJ",
        "colab_type": "text"
      },
      "cell_type": "markdown",
      "source": [
        "**MODEL METRICS VISUALIZATION:**\n",
        "\n",
        "\n",
        "*   Model Accuracy\n",
        "\n",
        "*   Model Loss\n",
        "\n"
      ]
    },
    {
      "metadata": {
        "id": "DiseZZWhRPU0",
        "colab_type": "code",
        "colab": {}
      },
      "cell_type": "code",
      "source": [
        "def plot_modelacc(fit_model):\n",
        "    with p.style.context('ggplot'):\n",
        "            p.plot(fit_model.history['acc'])\n",
        "            p.plot(fit_model.history['val_acc'])\n",
        "            p.title(\"MODEL ACCURACY\")\n",
        "            p.xlabel(\"# of EPOCHS\")\n",
        "            p.ylabel(\"ACCURACY\")\n",
        "            p.legend(['train', 'test'], loc='upper left')\n",
        "    return p.show()"
      ],
      "execution_count": 0,
      "outputs": []
    },
    {
      "metadata": {
        "id": "gxCIz8C7RTXK",
        "colab_type": "code",
        "colab": {}
      },
      "cell_type": "code",
      "source": [
        "def plot_model_loss(fit_model):\n",
        "    with p.style.context('ggplot'):\n",
        "            p.plot(fit_model.history['loss'])\n",
        "            p.plot(fit_model.history['val_loss'])\n",
        "            p.title(\"MODEL LOSS\")\n",
        "            p.xlabel(\"# of EPOCHS\")\n",
        "            p.ylabel(\"LOSS\")\n",
        "            p.legend(['train', 'test'], loc='upper left')\n",
        "    return p.show()\n"
      ],
      "execution_count": 0,
      "outputs": []
    },
    {
      "metadata": {
        "id": "OUFDNdhJRUv6",
        "colab_type": "code",
        "outputId": "ef13d18d-5f92-4a5c-cf28-2cd38250e48a",
        "colab": {
          "base_uri": "https://localhost:8080/",
          "height": 743
        }
      },
      "cell_type": "code",
      "source": [
        "plot_modelacc(cnn_1)\n",
        "plot_model_loss(cnn_1)"
      ],
      "execution_count": 0,
      "outputs": [
        {
          "output_type": "display_data",
          "data": {
            "image/png": "[encoded data removed]",
            "text/plain": [
              "<Figure size 576x396 with 1 Axes>"
            ]
          },
          "metadata": {
            "tags": []
          }
        },
        {
          "output_type": "display_data",
          "data": {
            "image/png": "[encoded data removed]",
            "text/plain": [
              "<Figure size 576x396 with 1 Axes>"
            ]
          },
          "metadata": {
            "tags": []
          }
        }
      ]
    },
    {
      "metadata": {
        "id": "jR6amoJBRXxq",
        "colab_type": "code",
        "outputId": "8832a093-0169-4a84-b261-9c84269930d6",
        "colab": {
          "base_uri": "https://localhost:8080/",
          "height": 51
        }
      },
      "cell_type": "code",
      "source": [
        "print('Test data loss:', acc[0] )\n",
        "print('Test data accuracy:', acc[1] * 100)"
      ],
      "execution_count": 0,
      "outputs": [
        {
          "output_type": "stream",
          "text": [
            "Test data loss: 1.289082939338684\n",
            "Test data accuracy: 54.98\n"
          ],
          "name": "stdout"
        }
      ]
    },
    {
      "metadata": {
        "id": "mcgnOPd4A90I",
        "colab_type": "text"
      },
      "cell_type": "markdown",
      "source": [
        "**FINAL RESULTS:**\n",
        "\n",
        "\n",
        "*   Model Accuracy on Test Data: 54.98%\n",
        "*   Model Loss on Test Data: 1.28\n",
        "*   Model Training  and evaluation time: 5 mins\n",
        "\n",
        "\n",
        "\n",
        "\n"
      ]
    }
  ]
}